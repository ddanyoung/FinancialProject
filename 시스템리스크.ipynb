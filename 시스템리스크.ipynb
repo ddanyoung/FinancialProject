{
 "cells": [
  {
   "cell_type": "markdown",
   "metadata": {},
   "source": [
    "# 시스템리스크"
   ]
  },
  {
   "cell_type": "code",
   "execution_count": null,
   "metadata": {},
   "outputs": [],
   "source": [
    "import requests\n",
    "import pandas as pd\n",
    "from io import BytesIO\n",
    "import warnings\n",
    "warnings.filterwarnings('ignore')"
   ]
  },
  {
   "cell_type": "markdown",
   "metadata": {},
   "source": [
    "## 날짜 데이터 만들기"
   ]
  },
  {
   "cell_type": "code",
   "execution_count": 2,
   "metadata": {},
   "outputs": [],
   "source": [
    "# 분기별 날짜 데이터\n",
    "dates = pd.date_range('20000301', periods=88, freq='BQ-MAR')\n",
    "dates = [date.strftime(\"%Y%m%d\") for date in dates]"
   ]
  },
  {
   "cell_type": "code",
   "execution_count": 3,
   "metadata": {},
   "outputs": [],
   "source": [
    "# 연도별 날짜 데이터\n",
    "dates = pd.date_range('20000101', periods=22, freq='BA')\n",
    "dates = [date.strftime(\"%Y%m%d\") for date in dates]"
   ]
  },
  {
   "cell_type": "markdown",
   "metadata": {},
   "source": [
    "## KRX로 데이터 불러오기"
   ]
  },
  {
   "cell_type": "code",
   "execution_count": 3,
   "metadata": {},
   "outputs": [],
   "source": [
    "def get_krx_data(date):\n",
    "    gen_otp_url = 'http://data.krx.co.kr/comm/fileDn/GenerateOTP/generate.cmd'\n",
    "\n",
    "    gen_otp_data = {\n",
    "        'mktId': 'ALL',\n",
    "        'trdDd': str(date),\n",
    "        'share': '1',\n",
    "        'money': '1',\n",
    "        'csvxls_isNo': 'false',\n",
    "        'name': 'fileDown',\n",
    "        'url': 'dbms/MDC/STAT/standard/MDCSTAT01501'\n",
    "    }\n",
    "\n",
    "    headers = {'Referer': 'http://data.krx.co.kr/contents/MDC/MDI/mdiLoader/index.cmd?menuId=MDC0201020101'}\n",
    "    otp = requests.post(gen_otp_url, gen_otp_data, headers=headers).text\n",
    "\n",
    "    down_url = 'http://data.krx.co.kr/comm/fileDn/download_csv/download.cmd'\n",
    "    down_sector_KS = requests.post(down_url, {'code': otp}, headers=headers)\n",
    "    df = pd.read_csv(BytesIO(down_sector_KS.content), encoding='EUC-KR')\n",
    "    return df"
   ]
  },
  {
   "cell_type": "code",
   "execution_count": 140,
   "metadata": {},
   "outputs": [],
   "source": [
    "date = dates[3]\n",
    "t = get_krx_data(date)"
   ]
  },
  {
   "cell_type": "code",
   "execution_count": 222,
   "metadata": {},
   "outputs": [
    {
     "data": {
      "application/vnd.jupyter.widget-view+json": {
       "model_id": "7af4a748d22d4d61acd6071cae92a17e",
       "version_major": 2,
       "version_minor": 0
      },
      "text/plain": [
       "  0%|          | 0/22 [00:00<?, ?it/s]"
      ]
     },
     "metadata": {},
     "output_type": "display_data"
    }
   ],
   "source": [
    "from tqdm.notebook import tqdm\n",
    "from datetime import datetime, timedelta\n",
    "\n",
    "df = pd.DataFrame()\n",
    "for date in tqdm(dates):\n",
    "    \n",
    "    t = get_krx_data(date)\n",
    "    \n",
    "    if t.sum()['시가총액'] == 0:\n",
    "        dd = datetime.strptime(date, \"%Y%m%d\") + timedelta(days=-1)\n",
    "        dd = dd.strftime(\"%Y%m%d\")\n",
    "        t = get_krx_data(dd)\n",
    "        \n",
    "        while t.sum()['시가총액'] == 0:\n",
    "            t = get_krx_data(dd)\n",
    "            dd = datetime.strptime(dd, \"%Y%m%d\") + timedelta(days=-1)\n",
    "            dd = dd.strftime(\"%Y%m%d\")\n",
    "\n",
    "    거래대금 = t.sum()['거래대금']\n",
    "    시가총액 = t.sum()['시가총액']\n",
    "    df[date] = [거래대금, 시가총액]\n",
    "    \n",
    "df = df.T\n",
    "df.columns = ['거래대금', '시가총액']"
   ]
  },
  {
   "cell_type": "code",
   "execution_count": 223,
   "metadata": {},
   "outputs": [],
   "source": [
    "# 데이터 저장\n",
    "df.to_csv(\"./data/주식(연).csv\")"
   ]
  },
  {
   "cell_type": "code",
   "execution_count": 224,
   "metadata": {},
   "outputs": [
    {
     "data": {
      "text/html": [
       "<div>\n",
       "<style scoped>\n",
       "    .dataframe tbody tr th:only-of-type {\n",
       "        vertical-align: middle;\n",
       "    }\n",
       "\n",
       "    .dataframe tbody tr th {\n",
       "        vertical-align: top;\n",
       "    }\n",
       "\n",
       "    .dataframe thead th {\n",
       "        text-align: right;\n",
       "    }\n",
       "</style>\n",
       "<table border=\"1\" class=\"dataframe\">\n",
       "  <thead>\n",
       "    <tr style=\"text-align: right;\">\n",
       "      <th></th>\n",
       "      <th>거래대금</th>\n",
       "      <th>시가총액</th>\n",
       "    </tr>\n",
       "  </thead>\n",
       "  <tbody>\n",
       "    <tr>\n",
       "      <th>20001229</th>\n",
       "      <td>2045028342610</td>\n",
       "      <td>261373478132610</td>\n",
       "    </tr>\n",
       "    <tr>\n",
       "      <th>20011231</th>\n",
       "      <td>3907113771080</td>\n",
       "      <td>307940266653795</td>\n",
       "    </tr>\n",
       "    <tr>\n",
       "      <th>20021231</th>\n",
       "      <td>4081287322415</td>\n",
       "      <td>296356030559855</td>\n",
       "    </tr>\n",
       "  </tbody>\n",
       "</table>\n",
       "</div>"
      ],
      "text/plain": [
       "                   거래대금             시가총액\n",
       "20001229  2045028342610  261373478132610\n",
       "20011231  3907113771080  307940266653795\n",
       "20021231  4081287322415  296356030559855"
      ]
     },
     "execution_count": 224,
     "metadata": {},
     "output_type": "execute_result"
    }
   ],
   "source": [
    "# 저장된 데이터 불러오기\n",
    "df = pd.read_csv(\"./data/주식(연).csv\", index_col=0)\n",
    "df.head(3)"
   ]
  },
  {
   "cell_type": "markdown",
   "metadata": {},
   "source": [
    "## 국내 금융구조"
   ]
  },
  {
   "cell_type": "markdown",
   "metadata": {},
   "source": [
    "### 규모지수"
   ]
  },
  {
   "cell_type": "code",
   "execution_count": 160,
   "metadata": {},
   "outputs": [],
   "source": [
    "bank_total = pd.read_csv(\"./data/은행 총자산.csv\", index_col=0, thousands=',')\n",
    "bank_total = bank_total*1000000"
   ]
  },
  {
   "cell_type": "code",
   "execution_count": 232,
   "metadata": {},
   "outputs": [],
   "source": [
    "bank_total = pd.read_csv(\"./data/은행 총자산(연).csv\", index_col=0, thousands=',')\n",
    "bank_total = bank_total*1000000"
   ]
  },
  {
   "cell_type": "code",
   "execution_count": 234,
   "metadata": {},
   "outputs": [],
   "source": [
    "규모지수 = pd.DataFrame()\n",
    "규모지수['상장주식 시가총액'] = df['시가총액']\n",
    "규모지수['은행 총자산'] = bank_total.sum().values\n",
    "규모지수['규모지수'] = 규모지수['상장주식 시가총액'] / 규모지수['은행 총자산']\n",
    "규모지수['규모지수'] = (규모지수['규모지수'] / 규모지수['규모지수'].values[0])*100"
   ]
  },
  {
   "cell_type": "code",
   "execution_count": 168,
   "metadata": {},
   "outputs": [],
   "source": [
    "Qdate = pd.period_range('2000Q1', '2021Q4', freq='Q-FEB')\n",
    "Qdate = [str(date)[2:] for date in Qdate]"
   ]
  },
  {
   "cell_type": "code",
   "execution_count": 182,
   "metadata": {},
   "outputs": [],
   "source": [
    "import matplotlib.pyplot as plt\n",
    "import matplotlib.font_manager as fm\n",
    "\n",
    "path = 'C:\\\\Users\\\\min\\\\AppData\\\\Local\\\\Microsoft\\\\Windows\\\\Fonts\\\\NEXON Lv2 Gothic Medium.ttf'\n",
    "fontprop = fm.FontProperties(fname=path).get_name()\n",
    "plt.rc('font', family = fontprop)"
   ]
  },
  {
   "cell_type": "code",
   "execution_count": 247,
   "metadata": {},
   "outputs": [
    {
     "data": {
      "image/png": "[encoded data removed]",
      "text/plain": [
       "<Figure size 1080x720 with 2 Axes>"
      ]
     },
     "metadata": {
      "needs_background": "light"
     },
     "output_type": "display_data"
    }
   ],
   "source": [
    "import numpy as np\n",
    "\n",
    "x = np.arange(2000, 2022)\n",
    "y0 = 규모지수['상장주식 시가총액']\n",
    "y1 = 규모지수['은행 총자산']\n",
    "y2 = 규모지수['규모지수']\n",
    "\n",
    "fig, ax1 = plt.subplots(figsize=(15, 10))\n",
    "\n",
    "ax1.bar(x, -y1, label = '은행 총자산', color = 'cornflowerblue')\n",
    "ax1.bar(x, y0, label = '상장주식 시가총액', color = 'orange')\n",
    "plt.legend()\n",
    "plt.xticks(rotation=45, fontsize=10)\n",
    "\n",
    "ax2 = ax1.twinx()\n",
    "ax2.plot(x, y2, label='규모지수', color = 'tomato')\n",
    "\n",
    "plt.legend()\n",
    "plt.title(\"규모지수\", fontsize=25)\n",
    "plt.show()"
   ]
  },
  {
   "cell_type": "markdown",
   "metadata": {},
   "source": [
    "### 활동성 지수"
   ]
  },
  {
   "cell_type": "code",
   "execution_count": 266,
   "metadata": {},
   "outputs": [],
   "source": [
    "# 데이터 불러오기\n",
    "credit = pd.read_csv(\"./data/은행 민간신용(연).csv\", thousands=',', index_col=0)\n",
    "credit = credit*1000000"
   ]
  },
  {
   "cell_type": "code",
   "execution_count": 271,
   "metadata": {},
   "outputs": [],
   "source": [
    "활동성지수 = df['거래대금'].values / credit.sum().values\n",
    "활동성지수 = (활동성지수 / 활동성지수[0])*100"
   ]
  },
  {
   "cell_type": "markdown",
   "metadata": {},
   "source": [
    "### 효율성 지수"
   ]
  },
  {
   "cell_type": "code",
   "execution_count": 295,
   "metadata": {},
   "outputs": [],
   "source": [
    "cost = pd.read_csv(\"./data/은행 영업비용(연).csv\", thousands=',', index_col=0)\n",
    "cost = cost*1000000"
   ]
  },
  {
   "cell_type": "code",
   "execution_count": 303,
   "metadata": {},
   "outputs": [],
   "source": [
    "간접비용 = cost.loc['영업비용:당분기'].sum() - cost.loc['이자비용:당분기'].sum()"
   ]
  },
  {
   "cell_type": "code",
   "execution_count": 306,
   "metadata": {},
   "outputs": [],
   "source": [
    "# 주식 거래대금/시가총액 비율\n",
    "효율성지수 = (df['거래대금'].values / df['시가총액'].values) * (간접비용.values / bank_total.sum().values)\n",
    "효율성지수 = (효율성지수 / 효율성지수[0])*100"
   ]
  },
  {
   "cell_type": "code",
   "execution_count": 312,
   "metadata": {},
   "outputs": [
    {
     "data": {
      "image/png": "[encoded data removed]",
      "text/plain": [
       "<Figure size 1080x720 with 1 Axes>"
      ]
     },
     "metadata": {
      "needs_background": "light"
     },
     "output_type": "display_data"
    }
   ],
   "source": [
    "plt.figure(figsize=(15, 10))\n",
    "plt.plot(x, 활동성지수, label = '활동성지수')\n",
    "plt.plot(x, 효율성지수, label = '효율성지수')\n",
    "plt.legend(fontsize=12)\n",
    "plt.title(\"활동성 지수 및 효율성 지수\", fontsize=25)\n",
    "plt.show()"
   ]
  },
  {
   "cell_type": "markdown",
   "metadata": {},
   "source": [
    "## 은행 시장 구조"
   ]
  },
  {
   "cell_type": "markdown",
   "metadata": {},
   "source": [
    "### CR 지수"
   ]
  },
  {
   "cell_type": "code",
   "execution_count": 9,
   "metadata": {},
   "outputs": [],
   "source": [
    "총자산 = pd.read_csv(\"./data/은행 총자산(연).csv\",thousands=',', index_col=0)"
   ]
  },
  {
   "cell_type": "code",
   "execution_count": 29,
   "metadata": {},
   "outputs": [],
   "source": [
    "점유율 = pd.DataFrame(index=총자산.index, columns=총자산.columns)\n",
    "for col in 총자산.columns:\n",
    "    점유율[col] = (총자산.loc[:, col] / 총자산.loc[:, col].sum())*100"
   ]
  },
  {
   "cell_type": "code",
   "execution_count": 4,
   "metadata": {},
   "outputs": [],
   "source": [
    "CR4 = []\n",
    "CR3 = []\n",
    "for col in 점유율:\n",
    "    CR4.append(점유율[col].sort_values(ascending=False)[:4].sum())\n",
    "    CR3.append(점유율[col].sort_values(ascending=False)[:3].sum())"
   ]
  },
  {
   "cell_type": "code",
   "execution_count": 5,
   "metadata": {},
   "outputs": [],
   "source": [
    "import matplotlib.pyplot as plt\n",
    "import matplotlib.font_manager as fm\n",
    "\n",
    "path = 'C:\\\\Users\\\\min\\\\AppData\\\\Local\\\\Microsoft\\\\Windows\\\\Fonts\\\\NEXON Lv2 Gothic Medium.ttf'\n",
    "fontprop = fm.FontProperties(fname=path).get_name()\n",
    "plt.rc('font', family = fontprop)"
   ]
  },
  {
   "cell_type": "code",
   "execution_count": 6,
   "metadata": {},
   "outputs": [
    {
     "data": {
      "image/png": "[encoded data removed]",
      "text/plain": [
       "<Figure size 1080x720 with 1 Axes>"
      ]
     },
     "metadata": {
      "needs_background": "light"
     },
     "output_type": "display_data"
    }
   ],
   "source": [
    "import numpy as np\n",
    "\n",
    "x = np.arange(2000, 2022)\n",
    "plt.figure(figsize=(15, 10))\n",
    "plt.plot(x, CR3, label = 'CR3')\n",
    "plt.plot(x, CR4, label = 'CR4')\n",
    "plt.legend(fontsize=12)\n",
    "plt.title(\"CR 지표 추이\", fontsize=25)\n",
    "plt.show()"
   ]
  },
  {
   "cell_type": "markdown",
   "metadata": {},
   "source": [
    "### HHI"
   ]
  },
  {
   "cell_type": "code",
   "execution_count": 30,
   "metadata": {},
   "outputs": [],
   "source": [
    "HHI = (점유율**2).sum()"
   ]
  },
  {
   "cell_type": "code",
   "execution_count": 31,
   "metadata": {},
   "outputs": [
    {
     "data": {
      "image/png": "[encoded data removed]",
      "text/plain": [
       "<Figure size 1080x720 with 1 Axes>"
      ]
     },
     "metadata": {
      "needs_background": "light"
     },
     "output_type": "display_data"
    }
   ],
   "source": [
    "import numpy as np\n",
    "\n",
    "x = np.arange(2000, 2022)\n",
    "plt.figure(figsize=(15, 10))\n",
    "plt.plot(x, HHI, label = '총자산')\n",
    "# plt.plot(x, CR4, label = 'CR4')\n",
    "plt.legend(fontsize=12)\n",
    "plt.title(\"HHI 추이\", fontsize=25)\n",
    "plt.ylim([900, 1600])\n",
    "plt.show()"
   ]
  },
  {
   "cell_type": "markdown",
   "metadata": {},
   "source": [
    "## 동조화지수"
   ]
  },
  {
   "cell_type": "code",
   "execution_count": 2,
   "metadata": {},
   "outputs": [],
   "source": [
    "# 데이터 불러오기\n",
    "대출 = pd.read_csv('./data/5대 은행 대출.csv', thousands=',')\n",
    "유가증권 = pd.read_csv('./data/5대 은행 유가증권.csv', thousands=',')\n",
    "총자산 = pd.read_csv('./data/5대 은행 자산 총계.csv', thousands=',')"
   ]
  },
  {
   "cell_type": "code",
   "execution_count": 115,
   "metadata": {},
   "outputs": [],
   "source": [
    "기업대출 = 대출[대출.구분 == '기업자금']\n",
    "가계대출 = 대출[대출.구분 == '가계자금']\n",
    "\n",
    "기업대출.drop('구분', axis=1, inplace=True)\n",
    "가계대출.drop('구분', axis=1, inplace=True)"
   ]
  },
  {
   "cell_type": "code",
   "execution_count": 116,
   "metadata": {},
   "outputs": [],
   "source": [
    "유가증권 = 유가증권.loc[:, 유가증권.iloc[0] != '구성비']\n",
    "유가증권 = 유가증권.iloc[1:]"
   ]
  },
  {
   "cell_type": "code",
   "execution_count": 117,
   "metadata": {},
   "outputs": [],
   "source": [
    "총자산 = 총자산.loc[:, 총자산.iloc[0] != '구성비']\n",
    "총자산 = 총자산.iloc[1:]"
   ]
  },
  {
   "cell_type": "code",
   "execution_count": 124,
   "metadata": {},
   "outputs": [],
   "source": [
    "기업대출.columns = 총자산.columns\n",
    "가계대출.columns = 총자산.columns\n",
    "유가증권.columns = 총자산.columns"
   ]
  },
  {
   "cell_type": "code",
   "execution_count": 148,
   "metadata": {},
   "outputs": [],
   "source": [
    "기업대출.index = 기업대출.iloc[:, 0]\n",
    "가계대출.index = 기업대출.iloc[:, 0]\n",
    "유가증권.index = 기업대출.iloc[:, 0]\n",
    "총자산.index = 기업대출.iloc[:, 0]\n",
    "\n",
    "기업대출 = 기업대출.iloc[:, 1:]\n",
    "가계대출 = 가계대출.iloc[:, 1:]\n",
    "유가증권 = 유가증권.iloc[:, 1:]\n",
    "총자산 = 총자산.iloc[:, 1:]"
   ]
  },
  {
   "cell_type": "code",
   "execution_count": 154,
   "metadata": {},
   "outputs": [],
   "source": [
    "for col in 유가증권.columns:\n",
    "    기업대출[col] = 기업대출[col].astype('float')\n",
    "    가계대출[col] = 가계대출[col].astype('float')\n",
    "    유가증권[col] = 유가증권[col].astype('float')\n",
    "    총자산[col] = 총자산[col].astype('float')"
   ]
  },
  {
   "cell_type": "code",
   "execution_count": 203,
   "metadata": {},
   "outputs": [],
   "source": [
    "기업대출_rt = pd.DataFrame()\n",
    "가계대출_rt = pd.DataFrame()\n",
    "유가증권_rt = pd.DataFrame()\n",
    "\n",
    "for col in 기업대출.columns:\n",
    "    기업대출_rt[col] = (기업대출[col] / 총자산[col])\n",
    "    가계대출_rt[col] = (가계대출[col] / 총자산[col])\n",
    "    유가증권_rt[col] = (유가증권[col] / 총자산[col])"
   ]
  },
  {
   "cell_type": "markdown",
   "metadata": {},
   "source": [
    "## 회귀분석"
   ]
  },
  {
   "cell_type": "code",
   "execution_count": 6,
   "metadata": {},
   "outputs": [],
   "source": [
    "cgap = pd.read_csv(\"./data/CGAP.csv\")\n",
    "reer = pd.read_csv(\"./data/REER.csv\")\n",
    "rppr = pd.read_csv('./data/RPPR.csv')\n",
    "stkp = pd.read_csv('./data/STKP.csv')\n",
    "fsi = pd.read_csv('./data/FSI.csv', encoding='cp949')\n",
    "hmgi = pd.read_csv('./data/동조화지수.csv')"
   ]
  },
  {
   "cell_type": "markdown",
   "metadata": {},
   "source": [
    "### 전처리"
   ]
  },
  {
   "cell_type": "markdown",
   "metadata": {},
   "source": [
    "- cgap: 분기데이터, 2008년 1분기 ~ 2022년 1분기\n",
    "- reer: 월데이터, 1994년 1월 ~ 2022년 6월\n",
    "- rppr: 월데이터, 2006년 1월 ~ 2022년 5월\n",
    "- stkp: 월데이터, 2000년 1월 ~ 2022년 8월\n",
    "- fsi: 월데이터, 2007년 1월 ~ 2022년 5월\n",
    "- hmgi: 분기데이터, 2000년 4분기 ~ 2022년 1분기\n",
    "- 분기데이터로, 2008년 1분기 ~ 2022년 1분기로 데이터 전처리하기"
   ]
  },
  {
   "cell_type": "code",
   "execution_count": null,
   "metadata": {},
   "outputs": [],
   "source": [
    "import pandas as pd\n",
    "import statsmodels.api as sm"
   ]
  },
  {
   "cell_type": "code",
   "execution_count": 163,
   "metadata": {},
   "outputs": [],
   "source": [
    "reer = reer[pd.to_datetime(reer['날짜']) >= '2008-01-01']\n",
    "reer = reer[(reer['날짜'].str[:2] == \"03\") | (reer['날짜'].str[:2] == \"06\") | (reer['날짜'].str[:2] == \"09\") | (reer['날짜'].str[:2] == \"12\")]"
   ]
  },
  {
   "cell_type": "code",
   "execution_count": 164,
   "metadata": {},
   "outputs": [],
   "source": [
    "rppr['날짜'] = rppr['날짜'].str[6:8] + \"-\" + rppr['날짜'].str[:4]\n",
    "rppr = rppr[pd.to_datetime(rppr['날짜']) >= '2008-01-01']\n",
    "rppr = rppr[(rppr['날짜'].str[:2] == \"03\") | (rppr['날짜'].str[:2] == \"06\") | (rppr['날짜'].str[:2] == \"09\") | (rppr['날짜'].str[:2] == \"12\")]"
   ]
  },
  {
   "cell_type": "code",
   "execution_count": 165,
   "metadata": {},
   "outputs": [],
   "source": [
    "stkp = stkp[pd.to_datetime(stkp['날짜']) >= '2008-01-01']\n",
    "stkp = stkp[(stkp['날짜'].str[:2] == \"03\") | (stkp['날짜'].str[:2] == \"06\") | (stkp['날짜'].str[:2] == \"09\") | (stkp['날짜'].str[:2] == \"12\")]"
   ]
  },
  {
   "cell_type": "code",
   "execution_count": 7,
   "metadata": {},
   "outputs": [],
   "source": [
    "fsi = fsi[pd.to_datetime(fsi['날짜']) >= '2008-01-01']\n",
    "fsi = fsi[(fsi['날짜'].str[:2] == \"03\") | (fsi['날짜'].str[:2] == \"06\") | (fsi['날짜'].str[:2] == \"09\") | (fsi['날짜'].str[:2] == \"12\")]"
   ]
  },
  {
   "cell_type": "code",
   "execution_count": 168,
   "metadata": {},
   "outputs": [],
   "source": [
    "hmgi = hmgi[pd.to_datetime(hmgi['날짜']) >= '2008-01-01']\n",
    "hmgi = hmgi[(hmgi['날짜'].str[5:8] == \"03\") | (hmgi['날짜'].str[5:8] == \"06\") | (hmgi['날짜'].str[5:8] == \"09\") | (hmgi['날짜'].str[5:8] == \"12\")]"
   ]
  },
  {
   "cell_type": "code",
   "execution_count": 178,
   "metadata": {},
   "outputs": [
    {
     "data": {
      "text/plain": [
       "(57, 58, 57, 58, 57, 57)"
      ]
     },
     "execution_count": 178,
     "metadata": {},
     "output_type": "execute_result"
    }
   ],
   "source": [
    "len(cgap), len(reer), len(rppr), len(stkp), len(fsi), len(hmgi)"
   ]
  },
  {
   "cell_type": "code",
   "execution_count": 183,
   "metadata": {},
   "outputs": [],
   "source": [
    "reer = reer[:-1]\n",
    "stkp = stkp[:-1]"
   ]
  },
  {
   "cell_type": "code",
   "execution_count": null,
   "metadata": {},
   "outputs": [],
   "source": [
    "cgap.reset_index(drop=True, inplace=True)\n",
    "reer.reset_index(drop=True, inplace=True)\n",
    "rppr.reset_index(drop=True, inplace=True)\n",
    "stkp.reset_index(drop=True, inplace=True)\n",
    "fsi.reset_index(drop=True, inplace=True)\n",
    "hmgi.reset_index(drop=True, inplace=True)"
   ]
  },
  {
   "cell_type": "code",
   "execution_count": 214,
   "metadata": {},
   "outputs": [],
   "source": [
    "fsi1 = fsi.iloc[1:]\n",
    "fsi1.reset_index(drop=True, inplace=True)"
   ]
  },
  {
   "cell_type": "code",
   "execution_count": 216,
   "metadata": {},
   "outputs": [],
   "source": [
    "df = pd.concat([cgap[['날짜', '민간']], reer['실질실효환율'], rppr['실질주택가격지수'], stkp['종가'], fsi1['금융안정지수'], hmgi['HMGI']], axis=1)\n",
    "df.to_csv('./data/dataset.csv')"
   ]
  },
  {
   "cell_type": "code",
   "execution_count": 32,
   "metadata": {},
   "outputs": [],
   "source": [
    "df = pd.read_csv('./data/dataset.csv', index_col=0, thousands=',')\n",
    "df = pd.concat([df,fsi['금융안정지수']], axis=1)\n",
    "df.columns = ['날짜', 'CGAP', 'REER', 'RPPR', 'STKP', 'FSI_1', 'HMGI', 'FSI']\n",
    "df = df.iloc[:-1]"
   ]
  },
  {
   "cell_type": "code",
   "execution_count": 52,
   "metadata": {},
   "outputs": [],
   "source": [
    "X = df.iloc[:, 1:7]\n",
    "y = df.FSI.values"
   ]
  },
  {
   "cell_type": "code",
   "execution_count": 46,
   "metadata": {},
   "outputs": [],
   "source": [
    "X1 = df[['CGAP', 'REER', 'RPPR', 'STKP', 'FSI_1']]"
   ]
  },
  {
   "cell_type": "code",
   "execution_count": 53,
   "metadata": {},
   "outputs": [],
   "source": [
    "results = sm.OLS(y, sm.add_constant(X)).fit()\n",
    "results1 = sm.OLS(y, sm.add_constant(X1)).fit()"
   ]
  },
  {
   "cell_type": "code",
   "execution_count": 54,
   "metadata": {},
   "outputs": [
    {
     "data": {
      "text/html": [
       "<table class=\"simpletable\">\n",
       "<caption>OLS Regression Results</caption>\n",
       "<tr>\n",
       "  <th>Dep. Variable:</th>            <td>y</td>        <th>  R-squared:         </th> <td>   0.795</td>\n",
       "</tr>\n",
       "<tr>\n",
       "  <th>Model:</th>                   <td>OLS</td>       <th>  Adj. R-squared:    </th> <td>   0.770</td>\n",
       "</tr>\n",
       "<tr>\n",
       "  <th>Method:</th>             <td>Least Squares</td>  <th>  F-statistic:       </th> <td>   31.67</td>\n",
       "</tr>\n",
       "<tr>\n",
       "  <th>Date:</th>             <td>Fri, 12 Aug 2022</td> <th>  Prob (F-statistic):</th> <td>3.00e-15</td>\n",
       "</tr>\n",
       "<tr>\n",
       "  <th>Time:</th>                 <td>13:45:31</td>     <th>  Log-Likelihood:    </th> <td> -163.55</td>\n",
       "</tr>\n",
       "<tr>\n",
       "  <th>No. Observations:</th>      <td>    56</td>      <th>  AIC:               </th> <td>   341.1</td>\n",
       "</tr>\n",
       "<tr>\n",
       "  <th>Df Residuals:</th>          <td>    49</td>      <th>  BIC:               </th> <td>   355.3</td>\n",
       "</tr>\n",
       "<tr>\n",
       "  <th>Df Model:</th>              <td>     6</td>      <th>                     </th>     <td> </td>   \n",
       "</tr>\n",
       "<tr>\n",
       "  <th>Covariance Type:</th>      <td>nonrobust</td>    <th>                     </th>     <td> </td>   \n",
       "</tr>\n",
       "</table>\n",
       "<table class=\"simpletable\">\n",
       "<tr>\n",
       "    <td></td>       <th>coef</th>     <th>std err</th>      <th>t</th>      <th>P>|t|</th>  <th>[0.025</th>    <th>0.975]</th>  \n",
       "</tr>\n",
       "<tr>\n",
       "  <th>const</th> <td>   69.6997</td> <td>   16.877</td> <td>    4.130</td> <td> 0.000</td> <td>   35.784</td> <td>  103.615</td>\n",
       "</tr>\n",
       "<tr>\n",
       "  <th>CGAP</th>  <td>   -0.1217</td> <td>    0.176</td> <td>   -0.692</td> <td> 0.492</td> <td>   -0.475</td> <td>    0.232</td>\n",
       "</tr>\n",
       "<tr>\n",
       "  <th>REER</th>  <td>   -0.6569</td> <td>    0.179</td> <td>   -3.668</td> <td> 0.001</td> <td>   -1.017</td> <td>   -0.297</td>\n",
       "</tr>\n",
       "<tr>\n",
       "  <th>RPPR</th>  <td>    0.3119</td> <td>    0.110</td> <td>    2.831</td> <td> 0.007</td> <td>    0.091</td> <td>    0.533</td>\n",
       "</tr>\n",
       "<tr>\n",
       "  <th>STKP</th>  <td>   -0.0122</td> <td>    0.004</td> <td>   -2.945</td> <td> 0.005</td> <td>   -0.021</td> <td>   -0.004</td>\n",
       "</tr>\n",
       "<tr>\n",
       "  <th>FSI_1</th> <td>    0.4428</td> <td>    0.087</td> <td>    5.093</td> <td> 0.000</td> <td>    0.268</td> <td>    0.617</td>\n",
       "</tr>\n",
       "<tr>\n",
       "  <th>HMGI</th>  <td>    1.6231</td> <td>    7.969</td> <td>    0.204</td> <td> 0.839</td> <td>  -14.391</td> <td>   17.637</td>\n",
       "</tr>\n",
       "</table>\n",
       "<table class=\"simpletable\">\n",
       "<tr>\n",
       "  <th>Omnibus:</th>       <td>14.163</td> <th>  Durbin-Watson:     </th> <td>   1.177</td>\n",
       "</tr>\n",
       "<tr>\n",
       "  <th>Prob(Omnibus):</th> <td> 0.001</td> <th>  Jarque-Bera (JB):  </th> <td>  20.629</td>\n",
       "</tr>\n",
       "<tr>\n",
       "  <th>Skew:</th>          <td> 0.857</td> <th>  Prob(JB):          </th> <td>3.31e-05</td>\n",
       "</tr>\n",
       "<tr>\n",
       "  <th>Kurtosis:</th>      <td> 5.430</td> <th>  Cond. No.          </th> <td>5.56e+04</td>\n",
       "</tr>\n",
       "</table><br/><br/>Notes:<br/>[1] Standard Errors assume that the covariance matrix of the errors is correctly specified.<br/>[2] The condition number is large, 5.56e+04. This might indicate that there are<br/>strong multicollinearity or other numerical problems."
      ],
      "text/plain": [
       "<class 'statsmodels.iolib.summary.Summary'>\n",
       "\"\"\"\n",
       "                            OLS Regression Results                            \n",
       "==============================================================================\n",
       "Dep. Variable:                      y   R-squared:                       0.795\n",
       "Model:                            OLS   Adj. R-squared:                  0.770\n",
       "Method:                 Least Squares   F-statistic:                     31.67\n",
       "Date:                Fri, 12 Aug 2022   Prob (F-statistic):           3.00e-15\n",
       "Time:                        13:45:31   Log-Likelihood:                -163.55\n",
       "No. Observations:                  56   AIC:                             341.1\n",
       "Df Residuals:                      49   BIC:                             355.3\n",
       "Df Model:                           6                                         \n",
       "Covariance Type:            nonrobust                                         \n",
       "==============================================================================\n",
       "                 coef    std err          t      P>|t|      [0.025      0.975]\n",
       "------------------------------------------------------------------------------\n",
       "const         69.6997     16.877      4.130      0.000      35.784     103.615\n",
       "CGAP          -0.1217      0.176     -0.692      0.492      -0.475       0.232\n",
       "REER          -0.6569      0.179     -3.668      0.001      -1.017      -0.297\n",
       "RPPR           0.3119      0.110      2.831      0.007       0.091       0.533\n",
       "STKP          -0.0122      0.004     -2.945      0.005      -0.021      -0.004\n",
       "FSI_1          0.4428      0.087      5.093      0.000       0.268       0.617\n",
       "HMGI           1.6231      7.969      0.204      0.839     -14.391      17.637\n",
       "==============================================================================\n",
       "Omnibus:                       14.163   Durbin-Watson:                   1.177\n",
       "Prob(Omnibus):                  0.001   Jarque-Bera (JB):               20.629\n",
       "Skew:                           0.857   Prob(JB):                     3.31e-05\n",
       "Kurtosis:                       5.430   Cond. No.                     5.56e+04\n",
       "==============================================================================\n",
       "\n",
       "Notes:\n",
       "[1] Standard Errors assume that the covariance matrix of the errors is correctly specified.\n",
       "[2] The condition number is large, 5.56e+04. This might indicate that there are\n",
       "strong multicollinearity or other numerical problems.\n",
       "\"\"\""
      ]
     },
     "execution_count": 54,
     "metadata": {},
     "output_type": "execute_result"
    }
   ],
   "source": [
    "results.summary()"
   ]
  },
  {
   "cell_type": "code",
   "execution_count": 51,
   "metadata": {},
   "outputs": [
    {
     "data": {
      "text/html": [
       "<table class=\"simpletable\">\n",
       "<caption>OLS Regression Results</caption>\n",
       "<tr>\n",
       "  <th>Dep. Variable:</th>            <td>y</td>        <th>  R-squared:         </th> <td>   0.795</td>\n",
       "</tr>\n",
       "<tr>\n",
       "  <th>Model:</th>                   <td>OLS</td>       <th>  Adj. R-squared:    </th> <td>   0.774</td>\n",
       "</tr>\n",
       "<tr>\n",
       "  <th>Method:</th>             <td>Least Squares</td>  <th>  F-statistic:       </th> <td>   38.73</td>\n",
       "</tr>\n",
       "<tr>\n",
       "  <th>Date:</th>             <td>Fri, 12 Aug 2022</td> <th>  Prob (F-statistic):</th> <td>4.64e-16</td>\n",
       "</tr>\n",
       "<tr>\n",
       "  <th>Time:</th>                 <td>13:44:56</td>     <th>  Log-Likelihood:    </th> <td> -163.57</td>\n",
       "</tr>\n",
       "<tr>\n",
       "  <th>No. Observations:</th>      <td>    56</td>      <th>  AIC:               </th> <td>   339.1</td>\n",
       "</tr>\n",
       "<tr>\n",
       "  <th>Df Residuals:</th>          <td>    50</td>      <th>  BIC:               </th> <td>   351.3</td>\n",
       "</tr>\n",
       "<tr>\n",
       "  <th>Df Model:</th>              <td>     5</td>      <th>                     </th>     <td> </td>   \n",
       "</tr>\n",
       "<tr>\n",
       "  <th>Covariance Type:</th>      <td>nonrobust</td>    <th>                     </th>     <td> </td>   \n",
       "</tr>\n",
       "</table>\n",
       "<table class=\"simpletable\">\n",
       "<tr>\n",
       "    <td></td>       <th>coef</th>     <th>std err</th>      <th>t</th>      <th>P>|t|</th>  <th>[0.025</th>    <th>0.975]</th>  \n",
       "</tr>\n",
       "<tr>\n",
       "  <th>const</th> <td>   70.2628</td> <td>   16.489</td> <td>    4.261</td> <td> 0.000</td> <td>   37.144</td> <td>  103.381</td>\n",
       "</tr>\n",
       "<tr>\n",
       "  <th>CGAP</th>  <td>   -0.1146</td> <td>    0.171</td> <td>   -0.671</td> <td> 0.505</td> <td>   -0.458</td> <td>    0.229</td>\n",
       "</tr>\n",
       "<tr>\n",
       "  <th>REER</th>  <td>   -0.6570</td> <td>    0.177</td> <td>   -3.704</td> <td> 0.001</td> <td>   -1.013</td> <td>   -0.301</td>\n",
       "</tr>\n",
       "<tr>\n",
       "  <th>RPPR</th>  <td>    0.3092</td> <td>    0.108</td> <td>    2.855</td> <td> 0.006</td> <td>    0.092</td> <td>    0.527</td>\n",
       "</tr>\n",
       "<tr>\n",
       "  <th>STKP</th>  <td>   -0.0120</td> <td>    0.004</td> <td>   -3.025</td> <td> 0.004</td> <td>   -0.020</td> <td>   -0.004</td>\n",
       "</tr>\n",
       "<tr>\n",
       "  <th>FSI_1</th> <td>    0.4404</td> <td>    0.085</td> <td>    5.162</td> <td> 0.000</td> <td>    0.269</td> <td>    0.612</td>\n",
       "</tr>\n",
       "</table>\n",
       "<table class=\"simpletable\">\n",
       "<tr>\n",
       "  <th>Omnibus:</th>       <td>13.360</td> <th>  Durbin-Watson:     </th> <td>   1.174</td>\n",
       "</tr>\n",
       "<tr>\n",
       "  <th>Prob(Omnibus):</th> <td> 0.001</td> <th>  Jarque-Bera (JB):  </th> <td>  19.013</td>\n",
       "</tr>\n",
       "<tr>\n",
       "  <th>Skew:</th>          <td> 0.815</td> <th>  Prob(JB):          </th> <td>7.44e-05</td>\n",
       "</tr>\n",
       "<tr>\n",
       "  <th>Kurtosis:</th>      <td> 5.343</td> <th>  Cond. No.          </th> <td>5.47e+04</td>\n",
       "</tr>\n",
       "</table><br/><br/>Notes:<br/>[1] Standard Errors assume that the covariance matrix of the errors is correctly specified.<br/>[2] The condition number is large, 5.47e+04. This might indicate that there are<br/>strong multicollinearity or other numerical problems."
      ],
      "text/plain": [
       "<class 'statsmodels.iolib.summary.Summary'>\n",
       "\"\"\"\n",
       "                            OLS Regression Results                            \n",
       "==============================================================================\n",
       "Dep. Variable:                      y   R-squared:                       0.795\n",
       "Model:                            OLS   Adj. R-squared:                  0.774\n",
       "Method:                 Least Squares   F-statistic:                     38.73\n",
       "Date:                Fri, 12 Aug 2022   Prob (F-statistic):           4.64e-16\n",
       "Time:                        13:44:56   Log-Likelihood:                -163.57\n",
       "No. Observations:                  56   AIC:                             339.1\n",
       "Df Residuals:                      50   BIC:                             351.3\n",
       "Df Model:                           5                                         \n",
       "Covariance Type:            nonrobust                                         \n",
       "==============================================================================\n",
       "                 coef    std err          t      P>|t|      [0.025      0.975]\n",
       "------------------------------------------------------------------------------\n",
       "const         70.2628     16.489      4.261      0.000      37.144     103.381\n",
       "CGAP          -0.1146      0.171     -0.671      0.505      -0.458       0.229\n",
       "REER          -0.6570      0.177     -3.704      0.001      -1.013      -0.301\n",
       "RPPR           0.3092      0.108      2.855      0.006       0.092       0.527\n",
       "STKP          -0.0120      0.004     -3.025      0.004      -0.020      -0.004\n",
       "FSI_1          0.4404      0.085      5.162      0.000       0.269       0.612\n",
       "==============================================================================\n",
       "Omnibus:                       13.360   Durbin-Watson:                   1.174\n",
       "Prob(Omnibus):                  0.001   Jarque-Bera (JB):               19.013\n",
       "Skew:                           0.815   Prob(JB):                     7.44e-05\n",
       "Kurtosis:                       5.343   Cond. No.                     5.47e+04\n",
       "==============================================================================\n",
       "\n",
       "Notes:\n",
       "[1] Standard Errors assume that the covariance matrix of the errors is correctly specified.\n",
       "[2] The condition number is large, 5.47e+04. This might indicate that there are\n",
       "strong multicollinearity or other numerical problems.\n",
       "\"\"\""
      ]
     },
     "execution_count": 51,
     "metadata": {},
     "output_type": "execute_result"
    }
   ],
   "source": [
    "results1.summary()"
   ]
  },
  {
   "cell_type": "code",
   "execution_count": null,
   "metadata": {},
   "outputs": [],
   "source": []
  }
 ],
 "metadata": {
  "kernelspec": {
   "display_name": "Python 3.8.13 ('min')",
   "language": "python",
   "name": "python3"
  },
  "language_info": {
   "codemirror_mode": {
    "name": "ipython",
    "version": 3
   },
   "file_extension": ".py",
   "mimetype": "text/x-python",
   "name": "python",
   "nbconvert_exporter": "python",
   "pygments_lexer": "ipython3",
   "version": "3.8.13"
  },
  "orig_nbformat": 4,
  "vscode": {
   "interpreter": {
    "hash": "29ecd4bcb6c6387f366326cc687a07f977e49167ca0d01d29239172124223f86"
   }
  }
 },
 "nbformat": 4,
 "nbformat_minor": 2
}
